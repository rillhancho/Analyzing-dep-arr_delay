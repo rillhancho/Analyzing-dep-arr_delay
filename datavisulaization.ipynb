import matplotlib.pyplot as plt
import pandas as pd
import seaborn as sn 

df=pd.read_csv('C:/Users/rillh/OneDrive/Desktop/flights_update.csv')
df.head(15)

# Display the columns before deletion
print("Columns before deletion:")
print(df.columns)

# Delete the specified columns permanently
columns_to_delete = ["dep_time", "sched_dep_time", "arr_time", "sched_arr_time"]
df.drop(columns=columns_to_delete, inplace=True)

# Display the columns after deletion
print("\nColumns after deletion:")
print(df.columns)

# Display the first few rows of the updated DataFrame
df.head()

# Display the shape of the DataFrame before deletion
print("Shape of DataFrame before deletion:", df.shape)

# Delete rows with negative values in "dep_delay" and "arr_delay"
columns_to_check = ["dep_delay", "arr_delay"]
df = df[(df[columns_to_check] >= 0).all(axis=1)]

# Display the shape of the DataFrame after deletion
print("Shape of DataFrame after deletion:", df.shape)

# Display the first few rows of the updated DataFrame
df.head()

# Calculate mean and median for numeric columns
mean_values = df.mean()
median_values = df.median()

# Find the column with the highest frequency (mode)
mode_values = df.mode().iloc[0]

# Display the calculated values
print("Mean values:")
print(mean_values)
print("\nMedian values:")
print(median_values)
print("\nMode values:")
print(mode_values)

# Calculate the mean dep_delay for each carrier
dep_delay_by_carrier = df.groupby('carrier')['dep_delay'].mean().sort_values()

# Plot a pie chart
plt.figure(figsize=(10, 8))
plt.pie(dep_delay_by_carrier, labels=dep_delay_by_carrier.index, autopct='%1.1f%%', startangle=140)
plt.title('Average Departure Delay by Carrier')
plt.show()


arr_delay_by_carrier = df.groupby('carrier')['arr_delay'].mean().sort_values()

# Plot a pie chart
plt.figure(figsize=(10, 8))
plt.pie(arr_delay_by_carrier, labels=arr_delay_by_carrier.index, autopct='%1.1f%%', startangle=140)
plt.title('Average Arrival Delay by Carrier')
plt.show()

# Calculate the mean dep_delay for each origin
dep_delay_by_origin = df.groupby('origin')['dep_delay'].mean().sort_values()

# Plot a bar graph
plt.figure(figsize=(10, 6))
dep_delay_by_origin.plot(kind='bar', color='skyblue')
plt.title('Average Departure Delay by Origin')
plt.xlabel('Origin')
plt.ylabel('Average Departure Delay')
plt.xticks(rotation=0)
plt.show()

# Calculate the mean dep_delay for each origin
arr_delay_by_origin = df.groupby('origin')['arr_delay'].mean().sort_values()

# Plot a bar graph
plt.figure(figsize=(10, 6))
arr_delay_by_origin.plot(kind='bar', color='skyblue')
plt.title('Average Arrival Delay by Origin')
plt.xlabel('Origin')
plt.ylabel('Average Arrival Delay')
plt.xticks(rotation=0)
plt.show()

# Calculate the mean dep_delay for each origin
dep_delay_by_dest = df.groupby('dest')['dep_delay'].mean().sort_values()

# Plot a bar graph
plt.figure(figsize=(10, 6))
dep_delay_by_dest.plot(kind='bar', color='skyblue')
plt.title('Average Departure Delay by Destination')
plt.xlabel('Origin')
plt.ylabel('Average Departure Delay')
plt.xticks(rotation=0)
plt.show()
    
